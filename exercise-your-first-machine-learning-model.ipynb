{
 "cells": [
  {
   "cell_type": "markdown",
   "id": "f4ef65a1",
   "metadata": {
    "papermill": {
     "duration": 0.004678,
     "end_time": "2025-01-31T16:57:32.652691",
     "exception": false,
     "start_time": "2025-01-31T16:57:32.648013",
     "status": "completed"
    },
    "tags": []
   },
   "source": [
    "**This notebook is an exercise in the [Introduction to Machine Learning](https://www.kaggle.com/learn/intro-to-machine-learning) course.  You can reference the tutorial at [this link](https://www.kaggle.com/dansbecker/your-first-machine-learning-model).**\n",
    "\n",
    "---\n"
   ]
  },
  {
   "cell_type": "markdown",
   "id": "3b54a31c",
   "metadata": {
    "papermill": {
     "duration": 0.00358,
     "end_time": "2025-01-31T16:57:32.660442",
     "exception": false,
     "start_time": "2025-01-31T16:57:32.656862",
     "status": "completed"
    },
    "tags": []
   },
   "source": [
    "## Recap\n",
    "So far, you have loaded your data and reviewed it with the following code. Run this cell to set up your coding environment where the previous step left off."
   ]
  },
  {
   "cell_type": "code",
   "execution_count": 1,
   "id": "f2141b38",
   "metadata": {
    "execution": {
     "iopub.execute_input": "2025-01-31T16:57:32.670085Z",
     "iopub.status.busy": "2025-01-31T16:57:32.669434Z",
     "iopub.status.idle": "2025-01-31T16:57:35.981386Z",
     "shell.execute_reply": "2025-01-31T16:57:35.980156Z"
    },
    "papermill": {
     "duration": 3.318811,
     "end_time": "2025-01-31T16:57:35.983298",
     "exception": false,
     "start_time": "2025-01-31T16:57:32.664487",
     "status": "completed"
    },
    "tags": []
   },
   "outputs": [
    {
     "name": "stdout",
     "output_type": "stream",
     "text": [
      "Setup Complete\n"
     ]
    }
   ],
   "source": [
    "# Code you have previously used to load data\n",
    "import pandas as pd\n",
    "\n",
    "# Path of the file to read\n",
    "iowa_file_path = '../input/home-data-for-ml-course/train.csv'\n",
    "\n",
    "home_data = pd.read_csv(iowa_file_path)\n",
    "\n",
    "# Set up code checking\n",
    "from learntools.core import binder\n",
    "binder.bind(globals())\n",
    "from learntools.machine_learning.ex3 import *\n",
    "\n",
    "print(\"Setup Complete\")"
   ]
  },
  {
   "cell_type": "markdown",
   "id": "3d364b7f",
   "metadata": {
    "papermill": {
     "duration": 0.003807,
     "end_time": "2025-01-31T16:57:35.991381",
     "exception": false,
     "start_time": "2025-01-31T16:57:35.987574",
     "status": "completed"
    },
    "tags": []
   },
   "source": [
    "# Exercises\n",
    "\n",
    "## Step 1: Specify Prediction Target\n",
    "Select the target variable, which corresponds to the sales price. Save this to a new variable called `y`. You'll need to print a list of the columns to find the name of the column you need.\n"
   ]
  },
  {
   "cell_type": "code",
   "execution_count": 2,
   "id": "163f8e1c",
   "metadata": {
    "execution": {
     "iopub.execute_input": "2025-01-31T16:57:36.000884Z",
     "iopub.status.busy": "2025-01-31T16:57:36.000319Z",
     "iopub.status.idle": "2025-01-31T16:57:36.096175Z",
     "shell.execute_reply": "2025-01-31T16:57:36.094750Z"
    },
    "papermill": {
     "duration": 0.102756,
     "end_time": "2025-01-31T16:57:36.098099",
     "exception": false,
     "start_time": "2025-01-31T16:57:35.995343",
     "status": "completed"
    },
    "tags": []
   },
   "outputs": [
    {
     "name": "stdout",
     "output_type": "stream",
     "text": [
      "Index(['Suburb', 'Address', 'Rooms', 'Type', 'Price', 'Method', 'SellerG',\n",
      "       'Date', 'Distance', 'Postcode', 'Bedroom2', 'Bathroom', 'Car',\n",
      "       'Landsize', 'BuildingArea', 'YearBuilt', 'CouncilArea', 'Lattitude',\n",
      "       'Longtitude', 'Regionname', 'Propertycount'],\n",
      "      dtype='object')\n"
     ]
    }
   ],
   "source": [
    "# print the list of columns in the dataset to find the name of the prediction target\n",
    "import pandas as pd\n",
    "\n",
    "# Load the dataset\n",
    "melbourne_file_path = '../input/melbourne-housing-snapshot/melb_data.csv'\n",
    "melbourne_data = pd.read_csv(melbourne_file_path)\n",
    "\n",
    "# Print the list of columns in the dataset\n",
    "print(melbourne_data.columns)\n"
   ]
  },
  {
   "cell_type": "code",
   "execution_count": 3,
   "id": "dae091d3",
   "metadata": {
    "execution": {
     "iopub.execute_input": "2025-01-31T16:57:36.108027Z",
     "iopub.status.busy": "2025-01-31T16:57:36.107597Z",
     "iopub.status.idle": "2025-01-31T16:57:36.126154Z",
     "shell.execute_reply": "2025-01-31T16:57:36.125133Z"
    },
    "papermill": {
     "duration": 0.025597,
     "end_time": "2025-01-31T16:57:36.128031",
     "exception": false,
     "start_time": "2025-01-31T16:57:36.102434",
     "status": "completed"
    },
    "tags": []
   },
   "outputs": [
    {
     "name": "stdout",
     "output_type": "stream",
     "text": [
      "Index(['Suburb', 'Address', 'Rooms', 'Type', 'Price', 'Method', 'SellerG',\n",
      "       'Date', 'Distance', 'Postcode', 'Bedroom2', 'Bathroom', 'Car',\n",
      "       'Landsize', 'BuildingArea', 'YearBuilt', 'CouncilArea', 'Lattitude',\n",
      "       'Longtitude', 'Regionname', 'Propertycount'],\n",
      "      dtype='object')\n"
     ]
    },
    {
     "data": {
      "application/javascript": [
       "parent.postMessage({\"jupyterEvent\": \"custom.exercise_interaction\", \"data\": {\"outcomeType\": 1, \"valueTowardsCompletion\": 0.25, \"interactionType\": 1, \"questionType\": 2, \"questionId\": \"1_SetTarget\", \"learnToolsVersion\": \"0.3.4\", \"failureMessage\": \"\", \"exceptionClass\": \"\", \"trace\": \"\"}}, \"*\")"
      ],
      "text/plain": [
       "<IPython.core.display.Javascript object>"
      ]
     },
     "metadata": {},
     "output_type": "display_data"
    },
    {
     "data": {
      "text/markdown": [
       "<span style=\"color:#33cc33\">Correct</span>"
      ],
      "text/plain": [
       "Correct"
      ]
     },
     "metadata": {},
     "output_type": "display_data"
    }
   ],
   "source": [
    "# Check the available columns first\n",
    "print(melbourne_data.columns)\n",
    "\n",
    "# Assign the correct column as the prediction target\n",
    "y = home_data.SalePrice  # Make sure this matches the column name for the price\n",
    "\n",
    "# Check your answer\n",
    "step_1.check()"
   ]
  },
  {
   "cell_type": "code",
   "execution_count": 4,
   "id": "91b805ea",
   "metadata": {
    "execution": {
     "iopub.execute_input": "2025-01-31T16:57:36.138566Z",
     "iopub.status.busy": "2025-01-31T16:57:36.138216Z",
     "iopub.status.idle": "2025-01-31T16:57:36.149583Z",
     "shell.execute_reply": "2025-01-31T16:57:36.148345Z"
    },
    "papermill": {
     "duration": 0.018986,
     "end_time": "2025-01-31T16:57:36.151684",
     "exception": false,
     "start_time": "2025-01-31T16:57:36.132698",
     "status": "completed"
    },
    "tags": []
   },
   "outputs": [
    {
     "data": {
      "application/javascript": [
       "parent.postMessage({\"jupyterEvent\": \"custom.exercise_interaction\", \"data\": {\"interactionType\": 2, \"questionType\": 2, \"questionId\": \"1_SetTarget\", \"learnToolsVersion\": \"0.3.4\", \"valueTowardsCompletion\": 0.0, \"failureMessage\": \"\", \"exceptionClass\": \"\", \"trace\": \"\", \"outcomeType\": 4}}, \"*\")"
      ],
      "text/plain": [
       "<IPython.core.display.Javascript object>"
      ]
     },
     "metadata": {},
     "output_type": "display_data"
    },
    {
     "data": {
      "text/markdown": [
       "<span style=\"color:#3366cc\">Hint:</span> Use `print(home_data.columns)`. The column you want is at the end of the list. Use the dot notation to pull out this column from the DataFrame"
      ],
      "text/plain": [
       "Hint: Use `print(home_data.columns)`. The column you want is at the end of the list. Use the dot notation to pull out this column from the DataFrame"
      ]
     },
     "metadata": {},
     "output_type": "display_data"
    },
    {
     "data": {
      "application/javascript": [
       "parent.postMessage({\"jupyterEvent\": \"custom.exercise_interaction\", \"data\": {\"interactionType\": 3, \"questionType\": 2, \"questionId\": \"1_SetTarget\", \"learnToolsVersion\": \"0.3.4\", \"valueTowardsCompletion\": 0.0, \"failureMessage\": \"\", \"exceptionClass\": \"\", \"trace\": \"\", \"outcomeType\": 4}}, \"*\")"
      ],
      "text/plain": [
       "<IPython.core.display.Javascript object>"
      ]
     },
     "metadata": {},
     "output_type": "display_data"
    },
    {
     "data": {
      "text/markdown": [
       "<span style=\"color:#33cc99\">Solution:</span> \n",
       "```python\n",
       "y = home_data.SalePrice\n",
       "```"
      ],
      "text/plain": [
       "Solution: \n",
       "```python\n",
       "y = home_data.SalePrice\n",
       "```"
      ]
     },
     "metadata": {},
     "output_type": "display_data"
    }
   ],
   "source": [
    "# Show a hint\n",
    "step_1.hint()\n",
    "\n",
    "# Show the solution\n",
    "step_1.solution()\n"
   ]
  },
  {
   "cell_type": "markdown",
   "id": "422ad34b",
   "metadata": {
    "papermill": {
     "duration": 0.00483,
     "end_time": "2025-01-31T16:57:36.161727",
     "exception": false,
     "start_time": "2025-01-31T16:57:36.156897",
     "status": "completed"
    },
    "tags": []
   },
   "source": [
    "## Step 2: Create X\n",
    "Now you will create a DataFrame called `X` holding the predictive features.\n",
    "\n",
    "Since you want only some columns from the original data, you'll first create a list with the names of the columns you want in `X`.\n",
    "\n",
    "You'll use just the following columns in the list (you can copy and paste the whole list to save some typing, though you'll still need to add quotes):\n",
    "  * LotArea\n",
    "  * YearBuilt\n",
    "  * 1stFlrSF\n",
    "  * 2ndFlrSF\n",
    "  * FullBath\n",
    "  * BedroomAbvGr\n",
    "  * TotRmsAbvGrd\n",
    "\n",
    "After you've created that list of features, use it to create the DataFrame that you'll use to fit the model."
   ]
  },
  {
   "cell_type": "code",
   "execution_count": 5,
   "id": "75dea986",
   "metadata": {
    "execution": {
     "iopub.execute_input": "2025-01-31T16:57:36.173768Z",
     "iopub.status.busy": "2025-01-31T16:57:36.173378Z",
     "iopub.status.idle": "2025-01-31T16:57:36.186615Z",
     "shell.execute_reply": "2025-01-31T16:57:36.185647Z"
    },
    "papermill": {
     "duration": 0.021273,
     "end_time": "2025-01-31T16:57:36.188474",
     "exception": false,
     "start_time": "2025-01-31T16:57:36.167201",
     "status": "completed"
    },
    "tags": []
   },
   "outputs": [
    {
     "data": {
      "application/javascript": [
       "parent.postMessage({\"jupyterEvent\": \"custom.exercise_interaction\", \"data\": {\"outcomeType\": 1, \"valueTowardsCompletion\": 0.25, \"interactionType\": 1, \"questionType\": 2, \"questionId\": \"2_SelectPredictionData\", \"learnToolsVersion\": \"0.3.4\", \"failureMessage\": \"\", \"exceptionClass\": \"\", \"trace\": \"\"}}, \"*\")"
      ],
      "text/plain": [
       "<IPython.core.display.Javascript object>"
      ]
     },
     "metadata": {},
     "output_type": "display_data"
    },
    {
     "data": {
      "text/markdown": [
       "<span style=\"color:#33cc33\">Correct</span>"
      ],
      "text/plain": [
       "Correct"
      ]
     },
     "metadata": {},
     "output_type": "display_data"
    }
   ],
   "source": [
    "# List of feature names (include 7 features instead of 5)\n",
    "feature_names = ['OverallQual', 'GrLivArea', 'GarageCars', 'TotRmsAbvGrd', 'YearBuilt', 'LotArea', 'OverallCond']\n",
    "\n",
    "# Select data corresponding to the features in feature_names\n",
    "X = home_data[feature_names]\n",
    "\n",
    "# Check your answer\n",
    "step_2.check()\n"
   ]
  },
  {
   "cell_type": "code",
   "execution_count": 6,
   "id": "ce5ed05a",
   "metadata": {
    "execution": {
     "iopub.execute_input": "2025-01-31T16:57:36.202040Z",
     "iopub.status.busy": "2025-01-31T16:57:36.201618Z",
     "iopub.status.idle": "2025-01-31T16:57:36.214194Z",
     "shell.execute_reply": "2025-01-31T16:57:36.212841Z"
    },
    "papermill": {
     "duration": 0.020819,
     "end_time": "2025-01-31T16:57:36.216123",
     "exception": false,
     "start_time": "2025-01-31T16:57:36.195304",
     "status": "completed"
    },
    "tags": []
   },
   "outputs": [
    {
     "data": {
      "application/javascript": [
       "parent.postMessage({\"jupyterEvent\": \"custom.exercise_interaction\", \"data\": {\"interactionType\": 2, \"questionType\": 2, \"questionId\": \"2_SelectPredictionData\", \"learnToolsVersion\": \"0.3.4\", \"valueTowardsCompletion\": 0.0, \"failureMessage\": \"\", \"exceptionClass\": \"\", \"trace\": \"\", \"outcomeType\": 4}}, \"*\")"
      ],
      "text/plain": [
       "<IPython.core.display.Javascript object>"
      ]
     },
     "metadata": {},
     "output_type": "display_data"
    },
    {
     "data": {
      "text/markdown": [
       "<span style=\"color:#3366cc\">Hint:</span> Capitalization and spelling are important when specifying variable names. Use the brackets notation when specifying data for X."
      ],
      "text/plain": [
       "Hint: Capitalization and spelling are important when specifying variable names. Use the brackets notation when specifying data for X."
      ]
     },
     "metadata": {},
     "output_type": "display_data"
    },
    {
     "data": {
      "application/javascript": [
       "parent.postMessage({\"jupyterEvent\": \"custom.exercise_interaction\", \"data\": {\"interactionType\": 3, \"questionType\": 2, \"questionId\": \"2_SelectPredictionData\", \"learnToolsVersion\": \"0.3.4\", \"valueTowardsCompletion\": 0.0, \"failureMessage\": \"\", \"exceptionClass\": \"\", \"trace\": \"\", \"outcomeType\": 4}}, \"*\")"
      ],
      "text/plain": [
       "<IPython.core.display.Javascript object>"
      ]
     },
     "metadata": {},
     "output_type": "display_data"
    },
    {
     "data": {
      "text/markdown": [
       "<span style=\"color:#33cc99\">Solution:</span> \n",
       "```python\n",
       "feature_names = [\"LotArea\", \"YearBuilt\", \"1stFlrSF\", \"2ndFlrSF\",\n",
       "                      \"FullBath\", \"BedroomAbvGr\", \"TotRmsAbvGrd\"]\n",
       "\n",
       "X=home_data[feature_names]\n",
       "```"
      ],
      "text/plain": [
       "Solution: \n",
       "```python\n",
       "feature_names = [\"LotArea\", \"YearBuilt\", \"1stFlrSF\", \"2ndFlrSF\",\n",
       "                      \"FullBath\", \"BedroomAbvGr\", \"TotRmsAbvGrd\"]\n",
       "\n",
       "X=home_data[feature_names]\n",
       "```"
      ]
     },
     "metadata": {},
     "output_type": "display_data"
    }
   ],
   "source": [
    "step_2.hint()\n",
    "step_2.solution()"
   ]
  },
  {
   "cell_type": "markdown",
   "id": "8229720f",
   "metadata": {
    "papermill": {
     "duration": 0.005361,
     "end_time": "2025-01-31T16:57:36.227949",
     "exception": false,
     "start_time": "2025-01-31T16:57:36.222588",
     "status": "completed"
    },
    "tags": []
   },
   "source": [
    "## Review Data\n",
    "Before building a model, take a quick look at **X** to verify it looks sensible"
   ]
  },
  {
   "cell_type": "code",
   "execution_count": 7,
   "id": "f349b079",
   "metadata": {
    "execution": {
     "iopub.execute_input": "2025-01-31T16:57:36.240987Z",
     "iopub.status.busy": "2025-01-31T16:57:36.240569Z",
     "iopub.status.idle": "2025-01-31T16:57:36.277543Z",
     "shell.execute_reply": "2025-01-31T16:57:36.275595Z"
    },
    "papermill": {
     "duration": 0.046764,
     "end_time": "2025-01-31T16:57:36.280444",
     "exception": false,
     "start_time": "2025-01-31T16:57:36.233680",
     "status": "completed"
    },
    "tags": []
   },
   "outputs": [
    {
     "name": "stdout",
     "output_type": "stream",
     "text": [
      "       OverallQual    GrLivArea   GarageCars  TotRmsAbvGrd    YearBuilt  \\\n",
      "count  1460.000000  1460.000000  1460.000000   1460.000000  1460.000000   \n",
      "mean      6.099315  1515.463699     1.767123      6.517808  1971.267808   \n",
      "std       1.382997   525.480383     0.747315      1.625393    30.202904   \n",
      "min       1.000000   334.000000     0.000000      2.000000  1872.000000   \n",
      "25%       5.000000  1129.500000     1.000000      5.000000  1954.000000   \n",
      "50%       6.000000  1464.000000     2.000000      6.000000  1973.000000   \n",
      "75%       7.000000  1776.750000     2.000000      7.000000  2000.000000   \n",
      "max      10.000000  5642.000000     4.000000     14.000000  2010.000000   \n",
      "\n",
      "             LotArea  OverallCond  \n",
      "count    1460.000000  1460.000000  \n",
      "mean    10516.828082     5.575342  \n",
      "std      9981.264932     1.112799  \n",
      "min      1300.000000     1.000000  \n",
      "25%      7553.500000     5.000000  \n",
      "50%      9478.500000     5.000000  \n",
      "75%     11601.500000     6.000000  \n",
      "max    215245.000000     9.000000  \n",
      "   OverallQual  GrLivArea  GarageCars  TotRmsAbvGrd  YearBuilt  LotArea  \\\n",
      "0            7       1710           2             8       2003     8450   \n",
      "1            6       1262           2             6       1976     9600   \n",
      "2            7       1786           2             6       2001    11250   \n",
      "3            7       1717           3             7       1915     9550   \n",
      "4            8       2198           3             9       2000    14260   \n",
      "\n",
      "   OverallCond  \n",
      "0            5  \n",
      "1            8  \n",
      "2            5  \n",
      "3            5  \n",
      "4            5  \n"
     ]
    }
   ],
   "source": [
    "# Print description or statistics from X\n",
    "print(X.describe())\n",
    "\n",
    "# Print the top few lines\n",
    "print(X.head())\n"
   ]
  },
  {
   "cell_type": "markdown",
   "id": "f4558010",
   "metadata": {
    "papermill": {
     "duration": 0.005589,
     "end_time": "2025-01-31T16:57:36.292159",
     "exception": false,
     "start_time": "2025-01-31T16:57:36.286570",
     "status": "completed"
    },
    "tags": []
   },
   "source": [
    "## Step 3: Specify and Fit Model\n",
    "Create a `DecisionTreeRegressor` and save it iowa_model. Ensure you've done the relevant import from sklearn to run this command.\n",
    "\n",
    "Then fit the model you just created using the data in `X` and `y` that you saved above."
   ]
  },
  {
   "cell_type": "code",
   "execution_count": 8,
   "id": "2fbac38c",
   "metadata": {
    "execution": {
     "iopub.execute_input": "2025-01-31T16:57:36.305249Z",
     "iopub.status.busy": "2025-01-31T16:57:36.304903Z",
     "iopub.status.idle": "2025-01-31T16:57:36.324274Z",
     "shell.execute_reply": "2025-01-31T16:57:36.323196Z"
    },
    "papermill": {
     "duration": 0.02802,
     "end_time": "2025-01-31T16:57:36.326193",
     "exception": false,
     "start_time": "2025-01-31T16:57:36.298173",
     "status": "completed"
    },
    "tags": []
   },
   "outputs": [
    {
     "data": {
      "application/javascript": [
       "parent.postMessage({\"jupyterEvent\": \"custom.exercise_interaction\", \"data\": {\"outcomeType\": 1, \"valueTowardsCompletion\": 0.25, \"interactionType\": 1, \"questionType\": 2, \"questionId\": \"3_CreateModel\", \"learnToolsVersion\": \"0.3.4\", \"failureMessage\": \"\", \"exceptionClass\": \"\", \"trace\": \"\"}}, \"*\")"
      ],
      "text/plain": [
       "<IPython.core.display.Javascript object>"
      ]
     },
     "metadata": {},
     "output_type": "display_data"
    },
    {
     "data": {
      "text/markdown": [
       "<span style=\"color:#33cc33\">Correct</span>"
      ],
      "text/plain": [
       "Correct"
      ]
     },
     "metadata": {},
     "output_type": "display_data"
    }
   ],
   "source": [
    "from sklearn.tree import DecisionTreeRegressor\n",
    "\n",
    "# Specify the model and set random_state for reproducibility\n",
    "iowa_model = DecisionTreeRegressor(random_state=1)\n",
    "\n",
    "# Fit the model\n",
    "iowa_model.fit(X, y)\n",
    "\n",
    "# Check your answer\n",
    "step_3.check()\n"
   ]
  },
  {
   "cell_type": "code",
   "execution_count": 9,
   "id": "df4cc7d9",
   "metadata": {
    "execution": {
     "iopub.execute_input": "2025-01-31T16:57:36.340204Z",
     "iopub.status.busy": "2025-01-31T16:57:36.339823Z",
     "iopub.status.idle": "2025-01-31T16:57:36.351723Z",
     "shell.execute_reply": "2025-01-31T16:57:36.350512Z"
    },
    "papermill": {
     "duration": 0.021187,
     "end_time": "2025-01-31T16:57:36.353713",
     "exception": false,
     "start_time": "2025-01-31T16:57:36.332526",
     "status": "completed"
    },
    "tags": []
   },
   "outputs": [
    {
     "data": {
      "application/javascript": [
       "parent.postMessage({\"jupyterEvent\": \"custom.exercise_interaction\", \"data\": {\"interactionType\": 2, \"questionType\": 2, \"questionId\": \"3_CreateModel\", \"learnToolsVersion\": \"0.3.4\", \"valueTowardsCompletion\": 0.0, \"failureMessage\": \"\", \"exceptionClass\": \"\", \"trace\": \"\", \"outcomeType\": 4}}, \"*\")"
      ],
      "text/plain": [
       "<IPython.core.display.Javascript object>"
      ]
     },
     "metadata": {},
     "output_type": "display_data"
    },
    {
     "data": {
      "text/markdown": [
       "<span style=\"color:#3366cc\">Hint:</span> Include `random_state` when specifying model. Data is specified when fitting it."
      ],
      "text/plain": [
       "Hint: Include `random_state` when specifying model. Data is specified when fitting it."
      ]
     },
     "metadata": {},
     "output_type": "display_data"
    },
    {
     "data": {
      "application/javascript": [
       "parent.postMessage({\"jupyterEvent\": \"custom.exercise_interaction\", \"data\": {\"interactionType\": 3, \"questionType\": 2, \"questionId\": \"3_CreateModel\", \"learnToolsVersion\": \"0.3.4\", \"valueTowardsCompletion\": 0.0, \"failureMessage\": \"\", \"exceptionClass\": \"\", \"trace\": \"\", \"outcomeType\": 4}}, \"*\")"
      ],
      "text/plain": [
       "<IPython.core.display.Javascript object>"
      ]
     },
     "metadata": {},
     "output_type": "display_data"
    },
    {
     "data": {
      "text/markdown": [
       "<span style=\"color:#33cc99\">Solution:</span> \n",
       "```python\n",
       "from sklearn.tree import DecisionTreeRegressor\n",
       "iowa_model = DecisionTreeRegressor(random_state=1)\n",
       "iowa_model.fit(X, y)\n",
       "```"
      ],
      "text/plain": [
       "Solution: \n",
       "```python\n",
       "from sklearn.tree import DecisionTreeRegressor\n",
       "iowa_model = DecisionTreeRegressor(random_state=1)\n",
       "iowa_model.fit(X, y)\n",
       "```"
      ]
     },
     "metadata": {},
     "output_type": "display_data"
    }
   ],
   "source": [
    "step_3.hint()\n",
    "step_3.solution()"
   ]
  },
  {
   "cell_type": "markdown",
   "id": "582adbb5",
   "metadata": {
    "papermill": {
     "duration": 0.006067,
     "end_time": "2025-01-31T16:57:36.366530",
     "exception": false,
     "start_time": "2025-01-31T16:57:36.360463",
     "status": "completed"
    },
    "tags": []
   },
   "source": [
    "## Step 4: Make Predictions\n",
    "Make predictions with the model's `predict` command using `X` as the data. Save the results to a variable called `predictions`."
   ]
  },
  {
   "cell_type": "code",
   "execution_count": 10,
   "id": "d163f179",
   "metadata": {
    "execution": {
     "iopub.execute_input": "2025-01-31T16:57:36.380713Z",
     "iopub.status.busy": "2025-01-31T16:57:36.380316Z",
     "iopub.status.idle": "2025-01-31T16:57:36.392901Z",
     "shell.execute_reply": "2025-01-31T16:57:36.391921Z"
    },
    "papermill": {
     "duration": 0.021561,
     "end_time": "2025-01-31T16:57:36.394569",
     "exception": false,
     "start_time": "2025-01-31T16:57:36.373008",
     "status": "completed"
    },
    "tags": []
   },
   "outputs": [
    {
     "name": "stdout",
     "output_type": "stream",
     "text": [
      "[208500. 181500. 223500. ... 266500. 142125. 147500.]\n"
     ]
    },
    {
     "data": {
      "application/javascript": [
       "parent.postMessage({\"jupyterEvent\": \"custom.exercise_interaction\", \"data\": {\"outcomeType\": 1, \"valueTowardsCompletion\": 0.25, \"interactionType\": 1, \"questionType\": 2, \"questionId\": \"4_MakePredictions\", \"learnToolsVersion\": \"0.3.4\", \"failureMessage\": \"\", \"exceptionClass\": \"\", \"trace\": \"\"}}, \"*\")"
      ],
      "text/plain": [
       "<IPython.core.display.Javascript object>"
      ]
     },
     "metadata": {},
     "output_type": "display_data"
    },
    {
     "data": {
      "text/markdown": [
       "<span style=\"color:#33cc33\">Correct</span>"
      ],
      "text/plain": [
       "Correct"
      ]
     },
     "metadata": {},
     "output_type": "display_data"
    }
   ],
   "source": [
    "# Make predictions using the fitted model\n",
    "predictions = iowa_model.predict(X)\n",
    "\n",
    "# Print the predictions\n",
    "print(predictions)\n",
    "\n",
    "# Check your answer\n",
    "step_4.check()"
   ]
  },
  {
   "cell_type": "code",
   "execution_count": 11,
   "id": "e04202c9",
   "metadata": {
    "execution": {
     "iopub.execute_input": "2025-01-31T16:57:36.409834Z",
     "iopub.status.busy": "2025-01-31T16:57:36.409423Z",
     "iopub.status.idle": "2025-01-31T16:57:36.420160Z",
     "shell.execute_reply": "2025-01-31T16:57:36.419354Z"
    },
    "papermill": {
     "duration": 0.020287,
     "end_time": "2025-01-31T16:57:36.421923",
     "exception": false,
     "start_time": "2025-01-31T16:57:36.401636",
     "status": "completed"
    },
    "tags": []
   },
   "outputs": [
    {
     "data": {
      "application/javascript": [
       "parent.postMessage({\"jupyterEvent\": \"custom.exercise_interaction\", \"data\": {\"interactionType\": 2, \"questionType\": 2, \"questionId\": \"4_MakePredictions\", \"learnToolsVersion\": \"0.3.4\", \"valueTowardsCompletion\": 0.0, \"failureMessage\": \"\", \"exceptionClass\": \"\", \"trace\": \"\", \"outcomeType\": 4}}, \"*\")"
      ],
      "text/plain": [
       "<IPython.core.display.Javascript object>"
      ]
     },
     "metadata": {},
     "output_type": "display_data"
    },
    {
     "data": {
      "text/markdown": [
       "<span style=\"color:#3366cc\">Hint:</span> Use `iowa_model.predict` with an argument holding the data to predict with."
      ],
      "text/plain": [
       "Hint: Use `iowa_model.predict` with an argument holding the data to predict with."
      ]
     },
     "metadata": {},
     "output_type": "display_data"
    },
    {
     "data": {
      "application/javascript": [
       "parent.postMessage({\"jupyterEvent\": \"custom.exercise_interaction\", \"data\": {\"interactionType\": 3, \"questionType\": 2, \"questionId\": \"4_MakePredictions\", \"learnToolsVersion\": \"0.3.4\", \"valueTowardsCompletion\": 0.0, \"failureMessage\": \"\", \"exceptionClass\": \"\", \"trace\": \"\", \"outcomeType\": 4}}, \"*\")"
      ],
      "text/plain": [
       "<IPython.core.display.Javascript object>"
      ]
     },
     "metadata": {},
     "output_type": "display_data"
    },
    {
     "data": {
      "text/markdown": [
       "<span style=\"color:#33cc99\">Solution:</span> \n",
       "```python\n",
       "iowa_model.predict(X)\n",
       "```"
      ],
      "text/plain": [
       "Solution: \n",
       "```python\n",
       "iowa_model.predict(X)\n",
       "```"
      ]
     },
     "metadata": {},
     "output_type": "display_data"
    }
   ],
   "source": [
    "step_4.hint()\n",
    "step_4.solution()"
   ]
  },
  {
   "cell_type": "markdown",
   "id": "e521ccd1",
   "metadata": {
    "papermill": {
     "duration": 0.00688,
     "end_time": "2025-01-31T16:57:36.436045",
     "exception": false,
     "start_time": "2025-01-31T16:57:36.429165",
     "status": "completed"
    },
    "tags": []
   },
   "source": [
    "## Think About Your Results\n",
    "\n",
    "Use the `head` method to compare the top few predictions to the actual home values (in `y`) for those same homes. Anything surprising?\n"
   ]
  },
  {
   "cell_type": "code",
   "execution_count": 12,
   "id": "36d724e5",
   "metadata": {
    "execution": {
     "iopub.execute_input": "2025-01-31T16:57:36.452290Z",
     "iopub.status.busy": "2025-01-31T16:57:36.451926Z",
     "iopub.status.idle": "2025-01-31T16:57:36.459680Z",
     "shell.execute_reply": "2025-01-31T16:57:36.458623Z"
    },
    "papermill": {
     "duration": 0.017454,
     "end_time": "2025-01-31T16:57:36.461345",
     "exception": false,
     "start_time": "2025-01-31T16:57:36.443891",
     "status": "completed"
    },
    "tags": []
   },
   "outputs": [
    {
     "name": "stdout",
     "output_type": "stream",
     "text": [
      "[208500. 181500. 223500. ... 266500. 142125. 147500.]\n"
     ]
    }
   ],
   "source": [
    "# You can write code in this cell\n",
    "# Make predictions using the fitted model\n",
    "predictions = iowa_model.predict(X)\n",
    "\n",
    "# Print the predictions\n",
    "print(predictions)\n",
    "\n"
   ]
  },
  {
   "cell_type": "markdown",
   "id": "d84ae01b",
   "metadata": {
    "papermill": {
     "duration": 0.007255,
     "end_time": "2025-01-31T16:57:36.476079",
     "exception": false,
     "start_time": "2025-01-31T16:57:36.468824",
     "status": "completed"
    },
    "tags": []
   },
   "source": [
    "It's natural to ask how accurate the model's predictions will be and how you can improve that. That will be you're next step.\n",
    "\n",
    "# Keep Going\n",
    "\n",
    "You are ready for **[Model Validation](https://www.kaggle.com/dansbecker/model-validation).**\n"
   ]
  },
  {
   "cell_type": "markdown",
   "id": "02337567",
   "metadata": {
    "papermill": {
     "duration": 0.007663,
     "end_time": "2025-01-31T16:57:36.490962",
     "exception": false,
     "start_time": "2025-01-31T16:57:36.483299",
     "status": "completed"
    },
    "tags": []
   },
   "source": [
    "---\n",
    "\n",
    "\n",
    "\n",
    "\n",
    "*Have questions or comments? Visit the [course discussion forum](https://www.kaggle.com/learn/intro-to-machine-learning/discussion) to chat with other learners.*"
   ]
  }
 ],
 "metadata": {
  "kaggle": {
   "accelerator": "none",
   "dataSources": [
    {
     "databundleVersionId": 111096,
     "sourceId": 10211,
     "sourceType": "competition"
    },
    {
     "datasetId": 11167,
     "sourceId": 15520,
     "sourceType": "datasetVersion"
    },
    {
     "datasetId": 2709,
     "sourceId": 38454,
     "sourceType": "datasetVersion"
    }
   ],
   "isGpuEnabled": false,
   "isInternetEnabled": false,
   "language": "python",
   "sourceType": "notebook"
  },
  "kernelspec": {
   "display_name": "Python 3",
   "language": "python",
   "name": "python3"
  },
  "language_info": {
   "codemirror_mode": {
    "name": "ipython",
    "version": 3
   },
   "file_extension": ".py",
   "mimetype": "text/x-python",
   "name": "python",
   "nbconvert_exporter": "python",
   "pygments_lexer": "ipython3",
   "version": "3.10.12"
  },
  "papermill": {
   "default_parameters": {},
   "duration": 7.542516,
   "end_time": "2025-01-31T16:57:37.220028",
   "environment_variables": {},
   "exception": null,
   "input_path": "__notebook__.ipynb",
   "output_path": "__notebook__.ipynb",
   "parameters": {},
   "start_time": "2025-01-31T16:57:29.677512",
   "version": "2.6.0"
  }
 },
 "nbformat": 4,
 "nbformat_minor": 5
}
