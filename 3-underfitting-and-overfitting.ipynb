{
 "cells": [
  {
   "cell_type": "markdown",
   "id": "1bbba1af",
   "metadata": {
    "papermill": {
     "duration": 0.003536,
     "end_time": "2025-01-31T17:33:35.989567",
     "exception": false,
     "start_time": "2025-01-31T17:33:35.986031",
     "status": "completed"
    },
    "tags": []
   },
   "source": [
    "**This notebook is an exercise in the [Introduction to Machine Learning](https://www.kaggle.com/learn/intro-to-machine-learning) course.  You can reference the tutorial at [this link](https://www.kaggle.com/dansbecker/underfitting-and-overfitting).**\n",
    "\n",
    "---\n"
   ]
  },
  {
   "cell_type": "markdown",
   "id": "7ffc920c",
   "metadata": {
    "papermill": {
     "duration": 0.003194,
     "end_time": "2025-01-31T17:33:35.996036",
     "exception": false,
     "start_time": "2025-01-31T17:33:35.992842",
     "status": "completed"
    },
    "tags": []
   },
   "source": [
    "## Recap\n",
    "You've built your first model, and now it's time to optimize the size of the tree to make better predictions. Run this cell to set up your coding environment where the previous step left off."
   ]
  },
  {
   "cell_type": "code",
   "execution_count": 1,
   "id": "7343e67d",
   "metadata": {
    "execution": {
     "iopub.execute_input": "2025-01-31T17:33:36.003753Z",
     "iopub.status.busy": "2025-01-31T17:33:36.003345Z",
     "iopub.status.idle": "2025-01-31T17:33:38.729724Z",
     "shell.execute_reply": "2025-01-31T17:33:38.728249Z"
    },
    "papermill": {
     "duration": 2.732443,
     "end_time": "2025-01-31T17:33:38.731479",
     "exception": false,
     "start_time": "2025-01-31T17:33:35.999036",
     "status": "completed"
    },
    "tags": []
   },
   "outputs": [
    {
     "name": "stdout",
     "output_type": "stream",
     "text": [
      "Validation MAE: 29,653\n",
      "\n",
      "Setup complete\n",
      "Training MAE: 62\n",
      "Validation MAE: 29,653\n",
      "The model might be overfitting.\n"
     ]
    }
   ],
   "source": [
    "# Code you have previously used to load data\n",
    "import pandas as pd\n",
    "from sklearn.metrics import mean_absolute_error\n",
    "from sklearn.model_selection import train_test_split\n",
    "from sklearn.tree import DecisionTreeRegressor\n",
    "\n",
    "\n",
    "# Path of the file to read\n",
    "iowa_file_path = '../input/home-data-for-ml-course/train.csv'\n",
    "\n",
    "home_data = pd.read_csv(iowa_file_path)\n",
    "# Create target object and call it y\n",
    "y = home_data.SalePrice\n",
    "# Create X\n",
    "features = ['LotArea', 'YearBuilt', '1stFlrSF', '2ndFlrSF', 'FullBath', 'BedroomAbvGr', 'TotRmsAbvGrd']\n",
    "X = home_data[features]\n",
    "\n",
    "# Split into validation and training data\n",
    "train_X, val_X, train_y, val_y = train_test_split(X, y, random_state=1)\n",
    "\n",
    "# Specify Model\n",
    "iowa_model = DecisionTreeRegressor(random_state=1)\n",
    "# Fit Model\n",
    "iowa_model.fit(train_X, train_y)\n",
    "\n",
    "# Make validation predictions and calculate mean absolute error\n",
    "val_predictions = iowa_model.predict(val_X)\n",
    "val_mae = mean_absolute_error(val_predictions, val_y)\n",
    "print(\"Validation MAE: {:,.0f}\".format(val_mae))\n",
    "\n",
    "# Set up code checking\n",
    "from learntools.core import binder\n",
    "binder.bind(globals())\n",
    "from learntools.machine_learning.ex5 import *\n",
    "print(\"\\nSetup complete\")\n",
    "\n",
    "\n",
    "# Make training predictions and calculate training mean absolute error\n",
    "train_predictions = iowa_model.predict(train_X)\n",
    "train_mae = mean_absolute_error(train_predictions, train_y)\n",
    "\n",
    "# Print both training and validation MAE\n",
    "print(\"Training MAE: {:,.0f}\".format(train_mae))\n",
    "print(\"Validation MAE: {:,.0f}\".format(val_mae))\n",
    "\n",
    "# Compare performance\n",
    "if train_mae < val_mae:\n",
    "    print(\"The model might be overfitting.\")\n",
    "elif train_mae > val_mae:\n",
    "    print(\"The model might be underfitting.\")\n",
    "else:\n",
    "    print(\"The model is performing consistently.\")\n"
   ]
  },
  {
   "cell_type": "markdown",
   "id": "df22b591",
   "metadata": {
    "papermill": {
     "duration": 0.002977,
     "end_time": "2025-01-31T17:33:38.737949",
     "exception": false,
     "start_time": "2025-01-31T17:33:38.734972",
     "status": "completed"
    },
    "tags": []
   },
   "source": [
    "# Exercises\n",
    "You could write the function `get_mae` yourself. For now, we'll supply it. This is the same function you read about in the previous lesson. Just run the cell below."
   ]
  },
  {
   "cell_type": "code",
   "execution_count": 2,
   "id": "ae89194d",
   "metadata": {
    "execution": {
     "iopub.execute_input": "2025-01-31T17:33:38.745771Z",
     "iopub.status.busy": "2025-01-31T17:33:38.745379Z",
     "iopub.status.idle": "2025-01-31T17:33:38.790244Z",
     "shell.execute_reply": "2025-01-31T17:33:38.788736Z"
    },
    "papermill": {
     "duration": 0.051109,
     "end_time": "2025-01-31T17:33:38.792245",
     "exception": false,
     "start_time": "2025-01-31T17:33:38.741136",
     "status": "completed"
    },
    "tags": []
   },
   "outputs": [
    {
     "name": "stdout",
     "output_type": "stream",
     "text": [
      "MAE for max_leaf_nodes=5: 35045\n",
      "MAE for max_leaf_nodes=10: 31585\n",
      "MAE for max_leaf_nodes=20: 28707\n",
      "MAE for max_leaf_nodes=50: 27406\n",
      "MAE for max_leaf_nodes=100: 27283\n",
      "MAE for max_leaf_nodes=200: 28136\n"
     ]
    }
   ],
   "source": [
    "def get_mae(max_leaf_nodes, train_X, val_X, train_y, val_y):\n",
    "    model = DecisionTreeRegressor(max_leaf_nodes=max_leaf_nodes, random_state=0)\n",
    "    model.fit(train_X, train_y)\n",
    "    preds_val = model.predict(val_X)\n",
    "    mae = mean_absolute_error(val_y, preds_val)\n",
    "    return(mae)\n",
    "\n",
    "# Test the function with different max_leaf_nodes values\n",
    "leaf_node_values = [5, 10, 20, 50, 100, 200]\n",
    "\n",
    "for max_leaf_nodes in leaf_node_values:\n",
    "    val_mae = get_mae(max_leaf_nodes, train_X, val_X, train_y, val_y)\n",
    "    print(f\"MAE for max_leaf_nodes={max_leaf_nodes}: {val_mae:.0f}\")\n"
   ]
  },
  {
   "cell_type": "markdown",
   "id": "a43fd0ff",
   "metadata": {
    "papermill": {
     "duration": 0.00326,
     "end_time": "2025-01-31T17:33:38.799132",
     "exception": false,
     "start_time": "2025-01-31T17:33:38.795872",
     "status": "completed"
    },
    "tags": []
   },
   "source": [
    "## Step 1: Compare Different Tree Sizes\n",
    "Write a loop that tries the following values for *max_leaf_nodes* from a set of possible values.\n",
    "\n",
    "Call the *get_mae* function on each value of max_leaf_nodes. Store the output in some way that allows you to select the value of `max_leaf_nodes` that gives the most accurate model on your data."
   ]
  },
  {
   "cell_type": "code",
   "execution_count": 3,
   "id": "72e71b6c",
   "metadata": {
    "execution": {
     "iopub.execute_input": "2025-01-31T17:33:38.807080Z",
     "iopub.status.busy": "2025-01-31T17:33:38.806703Z",
     "iopub.status.idle": "2025-01-31T17:33:38.857485Z",
     "shell.execute_reply": "2025-01-31T17:33:38.855923Z"
    },
    "papermill": {
     "duration": 0.056896,
     "end_time": "2025-01-31T17:33:38.859317",
     "exception": false,
     "start_time": "2025-01-31T17:33:38.802421",
     "status": "completed"
    },
    "tags": []
   },
   "outputs": [
    {
     "data": {
      "application/javascript": [
       "parent.postMessage({\"jupyterEvent\": \"custom.exercise_interaction\", \"data\": {\"outcomeType\": 4, \"interactionType\": 1, \"questionType\": 1, \"questionId\": \"1_BestTreeSize\", \"learnToolsVersion\": \"0.3.4\", \"valueTowardsCompletion\": 0.0, \"failureMessage\": \"\", \"exceptionClass\": \"\", \"trace\": \"\"}}, \"*\")"
      ],
      "text/plain": [
       "<IPython.core.display.Javascript object>"
      ]
     },
     "metadata": {},
     "output_type": "display_data"
    },
    {
     "data": {
      "text/markdown": [
       "<span style=\"color:#ccaa33\">Check:</span> When you've updated the starter code, `check()` will tell you whether your code is correct. You need to update the code that creates variable `best_tree_size`"
      ],
      "text/plain": [
       "Check: When you've updated the starter code, `check()` will tell you whether your code is correct. You need to update the code that creates variable `best_tree_size`"
      ]
     },
     "metadata": {},
     "output_type": "display_data"
    },
    {
     "name": "stdout",
     "output_type": "stream",
     "text": [
      "MAE for max_leaf_nodes=5: 35045\n",
      "MAE for max_leaf_nodes=25: 29016\n",
      "MAE for max_leaf_nodes=50: 27406\n",
      "MAE for max_leaf_nodes=100: 27283\n",
      "MAE for max_leaf_nodes=250: 27894\n",
      "MAE for max_leaf_nodes=500: 29454\n",
      "The best tree size is: 100\n"
     ]
    }
   ],
   "source": [
    "candidate_max_leaf_nodes = [5, 25, 50, 100, 250, 500]\n",
    "# Write loop to find the ideal tree size from candidate_max_leaf_nodes\n",
    "_\n",
    "\n",
    "# Store the best value of max_leaf_nodes (it will be either 5, 25, 50, 100, 250 or 500)\n",
    "best_tree_size = ____\n",
    "\n",
    "# Check your answer\n",
    "step_1.check()\n",
    "\n",
    "\n",
    "# Initialize variables to track the best tree size\n",
    "best_tree_size = None\n",
    "best_mae = float('inf')  # Start with a very large value for comparison\n",
    "\n",
    "# Loop through the candidate_max_leaf_nodes to find the best tree size\n",
    "candidate_max_leaf_nodes = [5, 25, 50, 100, 250, 500]\n",
    "for max_leaf_nodes in candidate_max_leaf_nodes:\n",
    "    val_mae = get_mae(max_leaf_nodes, train_X, val_X, train_y, val_y)\n",
    "    print(f\"MAE for max_leaf_nodes={max_leaf_nodes}: {val_mae:.0f}\")\n",
    "    \n",
    "    # Update the best tree size if the current MAE is lower\n",
    "    if val_mae < best_mae:\n",
    "        best_mae = val_mae\n",
    "        best_tree_size = max_leaf_nodes\n",
    "\n",
    "# Print the best tree size\n",
    "print(f\"The best tree size is: {best_tree_size}\")\n"
   ]
  },
  {
   "cell_type": "code",
   "execution_count": 4,
   "id": "d7bb9731",
   "metadata": {
    "execution": {
     "iopub.execute_input": "2025-01-31T17:33:38.868122Z",
     "iopub.status.busy": "2025-01-31T17:33:38.867766Z",
     "iopub.status.idle": "2025-01-31T17:33:38.878928Z",
     "shell.execute_reply": "2025-01-31T17:33:38.877865Z"
    },
    "papermill": {
     "duration": 0.017482,
     "end_time": "2025-01-31T17:33:38.880589",
     "exception": false,
     "start_time": "2025-01-31T17:33:38.863107",
     "status": "completed"
    },
    "tags": []
   },
   "outputs": [
    {
     "data": {
      "application/javascript": [
       "parent.postMessage({\"jupyterEvent\": \"custom.exercise_interaction\", \"data\": {\"interactionType\": 2, \"questionType\": 1, \"questionId\": \"1_BestTreeSize\", \"learnToolsVersion\": \"0.3.4\", \"valueTowardsCompletion\": 0.0, \"failureMessage\": \"\", \"exceptionClass\": \"\", \"trace\": \"\", \"outcomeType\": 4}}, \"*\")"
      ],
      "text/plain": [
       "<IPython.core.display.Javascript object>"
      ]
     },
     "metadata": {},
     "output_type": "display_data"
    },
    {
     "data": {
      "text/markdown": [
       "<span style=\"color:#3366cc\">Hint:</span> You will call get_mae in the loop. You'll need to map the names of your data structure to the names in get_mae"
      ],
      "text/plain": [
       "Hint: You will call get_mae in the loop. You'll need to map the names of your data structure to the names in get_mae"
      ]
     },
     "metadata": {},
     "output_type": "display_data"
    },
    {
     "data": {
      "application/javascript": [
       "parent.postMessage({\"jupyterEvent\": \"custom.exercise_interaction\", \"data\": {\"interactionType\": 3, \"questionType\": 1, \"questionId\": \"1_BestTreeSize\", \"learnToolsVersion\": \"0.3.4\", \"valueTowardsCompletion\": 0.0, \"failureMessage\": \"\", \"exceptionClass\": \"\", \"trace\": \"\", \"outcomeType\": 4}}, \"*\")"
      ],
      "text/plain": [
       "<IPython.core.display.Javascript object>"
      ]
     },
     "metadata": {},
     "output_type": "display_data"
    },
    {
     "data": {
      "text/markdown": [
       "<span style=\"color:#33cc99\">Solution:</span> \n",
       "```python\n",
       "# Here is a short solution with a dict comprehension.\n",
       "# The lesson gives an example of how to do this with an explicit loop.\n",
       "scores = {leaf_size: get_mae(leaf_size, train_X, val_X, train_y, val_y) for leaf_size in candidate_max_leaf_nodes}\n",
       "best_tree_size = min(scores, key=scores.get)\n",
       "\n",
       "```"
      ],
      "text/plain": [
       "Solution: \n",
       "```python\n",
       "# Here is a short solution with a dict comprehension.\n",
       "# The lesson gives an example of how to do this with an explicit loop.\n",
       "scores = {leaf_size: get_mae(leaf_size, train_X, val_X, train_y, val_y) for leaf_size in candidate_max_leaf_nodes}\n",
       "best_tree_size = min(scores, key=scores.get)\n",
       "\n",
       "```"
      ]
     },
     "metadata": {},
     "output_type": "display_data"
    }
   ],
   "source": [
    "# The lines below will show you a hint or the solution.\n",
    "step_1.hint() \n",
    "step_1.solution()"
   ]
  },
  {
   "cell_type": "markdown",
   "id": "2c915077",
   "metadata": {
    "papermill": {
     "duration": 0.003765,
     "end_time": "2025-01-31T17:33:38.888645",
     "exception": false,
     "start_time": "2025-01-31T17:33:38.884880",
     "status": "completed"
    },
    "tags": []
   },
   "source": [
    "## Step 2: Fit Model Using All Data\n",
    "You know the best tree size. If you were going to deploy this model in practice, you would make it even more accurate by using all of the data and keeping that tree size.  That is, you don't need to hold out the validation data now that you've made all your modeling decisions."
   ]
  },
  {
   "cell_type": "code",
   "execution_count": 5,
   "id": "025dd631",
   "metadata": {
    "execution": {
     "iopub.execute_input": "2025-01-31T17:33:38.897998Z",
     "iopub.status.busy": "2025-01-31T17:33:38.897595Z",
     "iopub.status.idle": "2025-01-31T17:33:38.917110Z",
     "shell.execute_reply": "2025-01-31T17:33:38.916077Z"
    },
    "papermill": {
     "duration": 0.026115,
     "end_time": "2025-01-31T17:33:38.918737",
     "exception": false,
     "start_time": "2025-01-31T17:33:38.892622",
     "status": "completed"
    },
    "tags": []
   },
   "outputs": [
    {
     "name": "stdout",
     "output_type": "stream",
     "text": [
      "Final validation MAE: 16,816\n"
     ]
    },
    {
     "data": {
      "application/javascript": [
       "parent.postMessage({\"jupyterEvent\": \"custom.exercise_interaction\", \"data\": {\"outcomeType\": 1, \"valueTowardsCompletion\": 0.5, \"interactionType\": 1, \"questionType\": 2, \"questionId\": \"2_FitModelWithAllData\", \"learnToolsVersion\": \"0.3.4\", \"failureMessage\": \"\", \"exceptionClass\": \"\", \"trace\": \"\"}}, \"*\")"
      ],
      "text/plain": [
       "<IPython.core.display.Javascript object>"
      ]
     },
     "metadata": {},
     "output_type": "display_data"
    },
    {
     "data": {
      "text/markdown": [
       "<span style=\"color:#33cc33\">Correct</span>"
      ],
      "text/plain": [
       "Correct"
      ]
     },
     "metadata": {},
     "output_type": "display_data"
    }
   ],
   "source": [
    "# Fit the final model with the best tree size\n",
    "final_model = DecisionTreeRegressor(max_leaf_nodes=best_tree_size, random_state=1)\n",
    "\n",
    "# Fit it on all the training data\n",
    "final_model.fit(X, y)\n",
    "\n",
    "# Make predictions on the validation set\n",
    "final_predictions = final_model.predict(val_X)\n",
    "\n",
    "# Calculate the validation MAE\n",
    "final_mae = mean_absolute_error(val_y, final_predictions)\n",
    "print(f\"Final validation MAE: {final_mae:,.0f}\")\n",
    "\n",
    "\n",
    "# Check your answer\n",
    "step_2.check()\n"
   ]
  },
  {
   "cell_type": "code",
   "execution_count": 6,
   "id": "af05d1b4",
   "metadata": {
    "execution": {
     "iopub.execute_input": "2025-01-31T17:33:38.928740Z",
     "iopub.status.busy": "2025-01-31T17:33:38.928346Z",
     "iopub.status.idle": "2025-01-31T17:33:38.938945Z",
     "shell.execute_reply": "2025-01-31T17:33:38.937941Z"
    },
    "papermill": {
     "duration": 0.017353,
     "end_time": "2025-01-31T17:33:38.940486",
     "exception": false,
     "start_time": "2025-01-31T17:33:38.923133",
     "status": "completed"
    },
    "tags": []
   },
   "outputs": [
    {
     "data": {
      "application/javascript": [
       "parent.postMessage({\"jupyterEvent\": \"custom.exercise_interaction\", \"data\": {\"interactionType\": 2, \"questionType\": 2, \"questionId\": \"2_FitModelWithAllData\", \"learnToolsVersion\": \"0.3.4\", \"valueTowardsCompletion\": 0.0, \"failureMessage\": \"\", \"exceptionClass\": \"\", \"trace\": \"\", \"outcomeType\": 4}}, \"*\")"
      ],
      "text/plain": [
       "<IPython.core.display.Javascript object>"
      ]
     },
     "metadata": {},
     "output_type": "display_data"
    },
    {
     "data": {
      "text/markdown": [
       "<span style=\"color:#3366cc\">Hint:</span> Fit with the ideal value of max_leaf_nodes. In the fit step, use all of the data in the dataset"
      ],
      "text/plain": [
       "Hint: Fit with the ideal value of max_leaf_nodes. In the fit step, use all of the data in the dataset"
      ]
     },
     "metadata": {},
     "output_type": "display_data"
    },
    {
     "data": {
      "application/javascript": [
       "parent.postMessage({\"jupyterEvent\": \"custom.exercise_interaction\", \"data\": {\"interactionType\": 3, \"questionType\": 2, \"questionId\": \"2_FitModelWithAllData\", \"learnToolsVersion\": \"0.3.4\", \"valueTowardsCompletion\": 0.0, \"failureMessage\": \"\", \"exceptionClass\": \"\", \"trace\": \"\", \"outcomeType\": 4}}, \"*\")"
      ],
      "text/plain": [
       "<IPython.core.display.Javascript object>"
      ]
     },
     "metadata": {},
     "output_type": "display_data"
    },
    {
     "data": {
      "text/markdown": [
       "<span style=\"color:#33cc99\">Solution:</span> \n",
       "```python\n",
       "# Fit the model with best_tree_size. Fill in argument to make optimal size\n",
       "final_model = DecisionTreeRegressor(max_leaf_nodes=best_tree_size, random_state=1)\n",
       "\n",
       "# fit the final model\n",
       "final_model.fit(X, y)\n",
       "```"
      ],
      "text/plain": [
       "Solution: \n",
       "```python\n",
       "# Fit the model with best_tree_size. Fill in argument to make optimal size\n",
       "final_model = DecisionTreeRegressor(max_leaf_nodes=best_tree_size, random_state=1)\n",
       "\n",
       "# fit the final model\n",
       "final_model.fit(X, y)\n",
       "```"
      ]
     },
     "metadata": {},
     "output_type": "display_data"
    }
   ],
   "source": [
    " step_2.hint()\n",
    " step_2.solution()"
   ]
  },
  {
   "cell_type": "markdown",
   "id": "6f4b8e40",
   "metadata": {
    "papermill": {
     "duration": 0.00476,
     "end_time": "2025-01-31T17:33:38.950198",
     "exception": false,
     "start_time": "2025-01-31T17:33:38.945438",
     "status": "completed"
    },
    "tags": []
   },
   "source": [
    "You've tuned this model and improved your results. But we are still using Decision Tree models, which are not very sophisticated by modern machine learning standards. In the next step you will learn to use Random Forests to improve your models even more.\n",
    "\n",
    "# Keep Going\n",
    "\n",
    "You are ready for **[Random Forests](https://www.kaggle.com/dansbecker/random-forests).**\n"
   ]
  },
  {
   "cell_type": "markdown",
   "id": "6b3e248a",
   "metadata": {
    "papermill": {
     "duration": 0.004443,
     "end_time": "2025-01-31T17:33:38.959198",
     "exception": false,
     "start_time": "2025-01-31T17:33:38.954755",
     "status": "completed"
    },
    "tags": []
   },
   "source": [
    "---\n",
    "\n",
    "\n",
    "\n",
    "\n",
    "*Have questions or comments? Visit the [course discussion forum](https://www.kaggle.com/learn/intro-to-machine-learning/discussion) to chat with other learners.*"
   ]
  }
 ],
 "metadata": {
  "kaggle": {
   "accelerator": "none",
   "dataSources": [
    {
     "databundleVersionId": 111096,
     "sourceId": 10211,
     "sourceType": "competition"
    },
    {
     "datasetId": 11167,
     "sourceId": 15520,
     "sourceType": "datasetVersion"
    },
    {
     "datasetId": 2709,
     "sourceId": 38454,
     "sourceType": "datasetVersion"
    }
   ],
   "isGpuEnabled": false,
   "isInternetEnabled": false,
   "language": "python",
   "sourceType": "notebook"
  },
  "kernelspec": {
   "display_name": "Python 3",
   "language": "python",
   "name": "python3"
  },
  "language_info": {
   "codemirror_mode": {
    "name": "ipython",
    "version": 3
   },
   "file_extension": ".py",
   "mimetype": "text/x-python",
   "name": "python",
   "nbconvert_exporter": "python",
   "pygments_lexer": "ipython3",
   "version": "3.10.12"
  },
  "papermill": {
   "default_parameters": {},
   "duration": 6.425967,
   "end_time": "2025-01-31T17:33:39.684304",
   "environment_variables": {},
   "exception": null,
   "input_path": "__notebook__.ipynb",
   "output_path": "__notebook__.ipynb",
   "parameters": {},
   "start_time": "2025-01-31T17:33:33.258337",
   "version": "2.6.0"
  }
 },
 "nbformat": 4,
 "nbformat_minor": 5
}
