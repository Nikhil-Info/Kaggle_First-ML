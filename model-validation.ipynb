{
 "cells": [
  {
   "cell_type": "markdown",
   "id": "ec06d9c6",
   "metadata": {
    "papermill": {
     "duration": 0.004278,
     "end_time": "2025-01-31T17:12:25.411863",
     "exception": false,
     "start_time": "2025-01-31T17:12:25.407585",
     "status": "completed"
    },
    "tags": []
   },
   "source": [
    "**This notebook is an exercise in the [Introduction to Machine Learning](https://www.kaggle.com/learn/intro-to-machine-learning) course.  You can reference the tutorial at [this link](https://www.kaggle.com/dansbecker/model-validation).**\n",
    "\n",
    "---\n"
   ]
  },
  {
   "cell_type": "markdown",
   "id": "a7ba169f",
   "metadata": {
    "papermill": {
     "duration": 0.003527,
     "end_time": "2025-01-31T17:12:25.419282",
     "exception": false,
     "start_time": "2025-01-31T17:12:25.415755",
     "status": "completed"
    },
    "tags": []
   },
   "source": [
    "## Recap\n",
    "You've built a model. In this exercise you will test how good your model is.\n",
    "\n",
    "Run the cell below to set up your coding environment where the previous exercise left off."
   ]
  },
  {
   "cell_type": "code",
   "execution_count": 1,
   "id": "ed5638cb",
   "metadata": {
    "execution": {
     "iopub.execute_input": "2025-01-31T17:12:25.428346Z",
     "iopub.status.busy": "2025-01-31T17:12:25.427947Z",
     "iopub.status.idle": "2025-01-31T17:12:28.070235Z",
     "shell.execute_reply": "2025-01-31T17:12:28.068924Z"
    },
    "papermill": {
     "duration": 2.649068,
     "end_time": "2025-01-31T17:12:28.072225",
     "exception": false,
     "start_time": "2025-01-31T17:12:25.423157",
     "status": "completed"
    },
    "tags": []
   },
   "outputs": [
    {
     "name": "stdout",
     "output_type": "stream",
     "text": [
      "First in-sample predictions: [208500. 181500. 223500. 140000. 250000.]\n",
      "Actual target values for those homes: [208500, 181500, 223500, 140000, 250000]\n",
      "Setup Complete\n"
     ]
    }
   ],
   "source": [
    "import pandas as pd\n",
    "from sklearn.tree import DecisionTreeRegressor\n",
    "\n",
    "# Path of the file to read\n",
    "iowa_file_path = '../input/home-data-for-ml-course/train.csv'\n",
    "\n",
    "home_data = pd.read_csv(iowa_file_path)\n",
    "y = home_data.SalePrice\n",
    "feature_columns = ['LotArea', 'YearBuilt', '1stFlrSF', '2ndFlrSF', 'FullBath', 'BedroomAbvGr', 'TotRmsAbvGrd']\n",
    "X = home_data[feature_columns]\n",
    "\n",
    "# Specify and fit the model\n",
    "iowa_model = DecisionTreeRegressor()\n",
    "iowa_model.fit(X, y)\n",
    "\n",
    "# In-sample predictions\n",
    "print(\"First in-sample predictions:\", iowa_model.predict(X.head()))\n",
    "print(\"Actual target values for those homes:\", y.head().tolist())\n",
    "\n",
    "# Set up code checking\n",
    "from learntools.core import binder\n",
    "binder.bind(globals())\n",
    "from learntools.machine_learning.ex4 import *\n",
    "print(\"Setup Complete\")\n"
   ]
  },
  {
   "cell_type": "markdown",
   "id": "a260a190",
   "metadata": {
    "papermill": {
     "duration": 0.003616,
     "end_time": "2025-01-31T17:12:28.079875",
     "exception": false,
     "start_time": "2025-01-31T17:12:28.076259",
     "status": "completed"
    },
    "tags": []
   },
   "source": [
    "# Exercises\n",
    "\n",
    "## Step 1: Split Your Data\n",
    "Use the `train_test_split` function to split up your data.\n",
    "\n",
    "Give it the argument `random_state=1` so the `check` functions know what to expect when verifying your code.\n",
    "\n",
    "Recall, your features are loaded in the DataFrame **X** and your target is loaded in **y**.\n"
   ]
  },
  {
   "cell_type": "code",
   "execution_count": 2,
   "id": "98e65e7c",
   "metadata": {
    "execution": {
     "iopub.execute_input": "2025-01-31T17:12:28.089185Z",
     "iopub.status.busy": "2025-01-31T17:12:28.088786Z",
     "iopub.status.idle": "2025-01-31T17:12:28.117655Z",
     "shell.execute_reply": "2025-01-31T17:12:28.116348Z"
    },
    "papermill": {
     "duration": 0.035811,
     "end_time": "2025-01-31T17:12:28.119528",
     "exception": false,
     "start_time": "2025-01-31T17:12:28.083717",
     "status": "completed"
    },
    "tags": []
   },
   "outputs": [
    {
     "name": "stdout",
     "output_type": "stream",
     "text": [
      "Training data size: 1095\n",
      "Validation data size: 365\n"
     ]
    },
    {
     "data": {
      "application/javascript": [
       "parent.postMessage({\"jupyterEvent\": \"custom.exercise_interaction\", \"data\": {\"outcomeType\": 1, \"valueTowardsCompletion\": 0.25, \"interactionType\": 1, \"questionType\": 2, \"questionId\": \"1_SplitData\", \"learnToolsVersion\": \"0.3.4\", \"failureMessage\": \"\", \"exceptionClass\": \"\", \"trace\": \"\"}}, \"*\")"
      ],
      "text/plain": [
       "<IPython.core.display.Javascript object>"
      ]
     },
     "metadata": {},
     "output_type": "display_data"
    },
    {
     "data": {
      "text/markdown": [
       "<span style=\"color:#33cc33\">Correct</span>"
      ],
      "text/plain": [
       "Correct"
      ]
     },
     "metadata": {},
     "output_type": "display_data"
    },
    {
     "data": {
      "application/javascript": [
       "parent.postMessage({\"jupyterEvent\": \"custom.exercise_interaction\", \"data\": {\"outcomeType\": 1, \"valueTowardsCompletion\": 0.25, \"interactionType\": 1, \"questionType\": 2, \"questionId\": \"1_SplitData\", \"learnToolsVersion\": \"0.3.4\", \"failureMessage\": \"\", \"exceptionClass\": \"\", \"trace\": \"\"}}, \"*\")"
      ],
      "text/plain": [
       "<IPython.core.display.Javascript object>"
      ]
     },
     "metadata": {},
     "output_type": "display_data"
    },
    {
     "data": {
      "text/markdown": [
       "<span style=\"color:#33cc33\">Correct</span>"
      ],
      "text/plain": [
       "Correct"
      ]
     },
     "metadata": {},
     "output_type": "display_data"
    }
   ],
   "source": [
    "from sklearn.model_selection import train_test_split\n",
    "\n",
    "# Split the data with random_state set to 1\n",
    "train_X, val_X, train_y, val_y = train_test_split(X, y, random_state=1)\n",
    "\n",
    "# Verify the shape of the resulting datasets\n",
    "print(f\"Training data size: {train_X.shape[0]}\")\n",
    "print(f\"Validation data size: {val_X.shape[0]}\")\n",
    "\n",
    "# Check your answer\n",
    "step_1.check()\n",
    "\n",
    "# Check your answer\n",
    "step_1.check()"
   ]
  },
  {
   "cell_type": "code",
   "execution_count": 3,
   "id": "c94f9b5e",
   "metadata": {
    "execution": {
     "iopub.execute_input": "2025-01-31T17:12:28.129851Z",
     "iopub.status.busy": "2025-01-31T17:12:28.129516Z",
     "iopub.status.idle": "2025-01-31T17:12:28.133493Z",
     "shell.execute_reply": "2025-01-31T17:12:28.132319Z"
    },
    "papermill": {
     "duration": 0.010897,
     "end_time": "2025-01-31T17:12:28.135193",
     "exception": false,
     "start_time": "2025-01-31T17:12:28.124296",
     "status": "completed"
    },
    "tags": []
   },
   "outputs": [],
   "source": [
    "# The lines below will show you a hint or the solution.\n",
    "# step_1.hint() \n",
    "# step_1.solution()\n"
   ]
  },
  {
   "cell_type": "markdown",
   "id": "94dfa3c6",
   "metadata": {
    "papermill": {
     "duration": 0.003965,
     "end_time": "2025-01-31T17:12:28.143723",
     "exception": false,
     "start_time": "2025-01-31T17:12:28.139758",
     "status": "completed"
    },
    "tags": []
   },
   "source": [
    "## Step 2: Specify and Fit the Model\n",
    "\n",
    "Create a `DecisionTreeRegressor` model and fit it to the relevant data.\n",
    "Set `random_state` to 1 again when creating the model."
   ]
  },
  {
   "cell_type": "code",
   "execution_count": 4,
   "id": "3b403169",
   "metadata": {
    "execution": {
     "iopub.execute_input": "2025-01-31T17:12:28.153233Z",
     "iopub.status.busy": "2025-01-31T17:12:28.152903Z",
     "iopub.status.idle": "2025-01-31T17:12:28.179086Z",
     "shell.execute_reply": "2025-01-31T17:12:28.178048Z"
    },
    "papermill": {
     "duration": 0.03301,
     "end_time": "2025-01-31T17:12:28.180908",
     "exception": false,
     "start_time": "2025-01-31T17:12:28.147898",
     "status": "completed"
    },
    "tags": []
   },
   "outputs": [
    {
     "name": "stdout",
     "output_type": "stream",
     "text": [
      "[186500. 184000. 130000.  92000. 164500. 220000. 335000. 144152. 215000.\n",
      " 262000.]\n",
      "[186500. 184000. 130000.  92000. 164500. 220000. 335000. 144152. 215000.\n",
      " 262000.]\n"
     ]
    },
    {
     "data": {
      "application/javascript": [
       "parent.postMessage({\"jupyterEvent\": \"custom.exercise_interaction\", \"data\": {\"outcomeType\": 1, \"valueTowardsCompletion\": 0.25, \"interactionType\": 1, \"questionType\": 2, \"questionId\": \"2_FitModelWithTrain\", \"learnToolsVersion\": \"0.3.4\", \"failureMessage\": \"\", \"exceptionClass\": \"\", \"trace\": \"\"}}, \"*\")"
      ],
      "text/plain": [
       "<IPython.core.display.Javascript object>"
      ]
     },
     "metadata": {},
     "output_type": "display_data"
    },
    {
     "data": {
      "text/markdown": [
       "<span style=\"color:#33cc33\">Correct</span>"
      ],
      "text/plain": [
       "Correct"
      ]
     },
     "metadata": {},
     "output_type": "display_data"
    }
   ],
   "source": [
    "# Specify the model\n",
    "iowa_model = DecisionTreeRegressor(random_state=1)\n",
    "\n",
    "# Fit iowa_model with the training data\n",
    "iowa_model.fit(train_X, train_y)\n",
    "\n",
    "# Check your answer\n",
    "step_2.check()\n"
   ]
  },
  {
   "cell_type": "code",
   "execution_count": 5,
   "id": "fe99d3af",
   "metadata": {
    "execution": {
     "iopub.execute_input": "2025-01-31T17:12:28.191808Z",
     "iopub.status.busy": "2025-01-31T17:12:28.191323Z",
     "iopub.status.idle": "2025-01-31T17:12:28.195490Z",
     "shell.execute_reply": "2025-01-31T17:12:28.194510Z"
    },
    "papermill": {
     "duration": 0.011385,
     "end_time": "2025-01-31T17:12:28.197151",
     "exception": false,
     "start_time": "2025-01-31T17:12:28.185766",
     "status": "completed"
    },
    "tags": []
   },
   "outputs": [],
   "source": [
    "# step_2.hint()\n",
    "# step_2.solution()"
   ]
  },
  {
   "cell_type": "markdown",
   "id": "0d03960e",
   "metadata": {
    "papermill": {
     "duration": 0.00451,
     "end_time": "2025-01-31T17:12:28.206574",
     "exception": false,
     "start_time": "2025-01-31T17:12:28.202064",
     "status": "completed"
    },
    "tags": []
   },
   "source": [
    "## Step 3: Make Predictions with Validation data\n"
   ]
  },
  {
   "cell_type": "code",
   "execution_count": 6,
   "id": "a889950c",
   "metadata": {
    "execution": {
     "iopub.execute_input": "2025-01-31T17:12:28.217240Z",
     "iopub.status.busy": "2025-01-31T17:12:28.216744Z",
     "iopub.status.idle": "2025-01-31T17:12:28.229818Z",
     "shell.execute_reply": "2025-01-31T17:12:28.228745Z"
    },
    "papermill": {
     "duration": 0.020517,
     "end_time": "2025-01-31T17:12:28.231673",
     "exception": false,
     "start_time": "2025-01-31T17:12:28.211156",
     "status": "completed"
    },
    "tags": []
   },
   "outputs": [
    {
     "data": {
      "application/javascript": [
       "parent.postMessage({\"jupyterEvent\": \"custom.exercise_interaction\", \"data\": {\"outcomeType\": 1, \"valueTowardsCompletion\": 0.25, \"interactionType\": 1, \"questionType\": 2, \"questionId\": \"3_ValPreds\", \"learnToolsVersion\": \"0.3.4\", \"failureMessage\": \"\", \"exceptionClass\": \"\", \"trace\": \"\"}}, \"*\")"
      ],
      "text/plain": [
       "<IPython.core.display.Javascript object>"
      ]
     },
     "metadata": {},
     "output_type": "display_data"
    },
    {
     "data": {
      "text/markdown": [
       "<span style=\"color:#33cc33\">Correct</span>"
      ],
      "text/plain": [
       "Correct"
      ]
     },
     "metadata": {},
     "output_type": "display_data"
    }
   ],
   "source": [
    "# Predict with all validation observations\n",
    "val_predictions = iowa_model.predict(val_X)\n",
    "\n",
    "# Check your answer\n",
    "step_3.check()\n"
   ]
  },
  {
   "cell_type": "code",
   "execution_count": 7,
   "id": "6c0f70d0",
   "metadata": {
    "execution": {
     "iopub.execute_input": "2025-01-31T17:12:28.249525Z",
     "iopub.status.busy": "2025-01-31T17:12:28.249126Z",
     "iopub.status.idle": "2025-01-31T17:12:28.253053Z",
     "shell.execute_reply": "2025-01-31T17:12:28.252072Z"
    },
    "papermill": {
     "duration": 0.014839,
     "end_time": "2025-01-31T17:12:28.254899",
     "exception": false,
     "start_time": "2025-01-31T17:12:28.240060",
     "status": "completed"
    },
    "tags": []
   },
   "outputs": [],
   "source": [
    "# step_3.hint()\n",
    "# step_3.solution()"
   ]
  },
  {
   "cell_type": "markdown",
   "id": "0d5cd119",
   "metadata": {
    "papermill": {
     "duration": 0.007274,
     "end_time": "2025-01-31T17:12:28.270756",
     "exception": false,
     "start_time": "2025-01-31T17:12:28.263482",
     "status": "completed"
    },
    "tags": []
   },
   "source": [
    "Inspect your predictions and actual values from validation data."
   ]
  },
  {
   "cell_type": "code",
   "execution_count": 8,
   "id": "a520fd17",
   "metadata": {
    "execution": {
     "iopub.execute_input": "2025-01-31T17:12:28.281911Z",
     "iopub.status.busy": "2025-01-31T17:12:28.281552Z",
     "iopub.status.idle": "2025-01-31T17:12:28.287877Z",
     "shell.execute_reply": "2025-01-31T17:12:28.286740Z"
    },
    "papermill": {
     "duration": 0.013854,
     "end_time": "2025-01-31T17:12:28.289353",
     "exception": false,
     "start_time": "2025-01-31T17:12:28.275499",
     "status": "completed"
    },
    "tags": []
   },
   "outputs": [
    {
     "name": "stdout",
     "output_type": "stream",
     "text": [
      "[186500. 184000. 130000.  92000. 164500.]\n",
      "258     231500\n",
      "267     179500\n",
      "288     122000\n",
      "649      84500\n",
      "1233    142000\n",
      "Name: SalePrice, dtype: int64\n"
     ]
    }
   ],
   "source": [
    "# Print the top few validation predictions\n",
    "print(val_predictions[:5])\n",
    "\n",
    "# Print the top few actual prices from validation data\n",
    "print(val_y[:5])\n"
   ]
  },
  {
   "cell_type": "markdown",
   "id": "15984789",
   "metadata": {
    "papermill": {
     "duration": 0.004546,
     "end_time": "2025-01-31T17:12:28.298976",
     "exception": false,
     "start_time": "2025-01-31T17:12:28.294430",
     "status": "completed"
    },
    "tags": []
   },
   "source": [
    "What do you notice that is different from what you saw with in-sample predictions (which are printed after the top code cell in this page).\n",
    "\n",
    "Do you remember why validation predictions differ from in-sample (or training) predictions? This is an important idea from the last lesson.\n",
    "\n",
    "## Step 4: Calculate the Mean Absolute Error in Validation Data\n"
   ]
  },
  {
   "cell_type": "code",
   "execution_count": 9,
   "id": "63540c2a",
   "metadata": {
    "execution": {
     "iopub.execute_input": "2025-01-31T17:12:28.314830Z",
     "iopub.status.busy": "2025-01-31T17:12:28.314335Z",
     "iopub.status.idle": "2025-01-31T17:12:28.325318Z",
     "shell.execute_reply": "2025-01-31T17:12:28.324259Z"
    },
    "papermill": {
     "duration": 0.02344,
     "end_time": "2025-01-31T17:12:28.327110",
     "exception": false,
     "start_time": "2025-01-31T17:12:28.303670",
     "status": "completed"
    },
    "tags": []
   },
   "outputs": [
    {
     "data": {
      "application/javascript": [
       "parent.postMessage({\"jupyterEvent\": \"custom.exercise_interaction\", \"data\": {\"outcomeType\": 1, \"valueTowardsCompletion\": 0.25, \"interactionType\": 1, \"questionType\": 1, \"questionId\": \"4_MAE\", \"learnToolsVersion\": \"0.3.4\", \"failureMessage\": \"\", \"exceptionClass\": \"\", \"trace\": \"\"}}, \"*\")"
      ],
      "text/plain": [
       "<IPython.core.display.Javascript object>"
      ]
     },
     "metadata": {},
     "output_type": "display_data"
    },
    {
     "data": {
      "text/markdown": [
       "<span style=\"color:#33cc33\">Correct</span>"
      ],
      "text/plain": [
       "Correct"
      ]
     },
     "metadata": {},
     "output_type": "display_data"
    }
   ],
   "source": [
    "from sklearn.metrics import mean_absolute_error\n",
    "val_mae = mean_absolute_error(val_y, val_predictions)\n",
    "\n",
    "# uncomment following line to see the validation_mae\n",
    "#print(val_mae)\n",
    "\n",
    "# Check your answer\n",
    "step_4.check()"
   ]
  },
  {
   "cell_type": "code",
   "execution_count": 10,
   "id": "5ac8690f",
   "metadata": {
    "execution": {
     "iopub.execute_input": "2025-01-31T17:12:28.338675Z",
     "iopub.status.busy": "2025-01-31T17:12:28.338285Z",
     "iopub.status.idle": "2025-01-31T17:12:28.342030Z",
     "shell.execute_reply": "2025-01-31T17:12:28.341154Z"
    },
    "papermill": {
     "duration": 0.011204,
     "end_time": "2025-01-31T17:12:28.343505",
     "exception": false,
     "start_time": "2025-01-31T17:12:28.332301",
     "status": "completed"
    },
    "tags": []
   },
   "outputs": [],
   "source": [
    "# step_4.hint()\n",
    "# step_4.solution()"
   ]
  },
  {
   "cell_type": "markdown",
   "id": "66434521",
   "metadata": {
    "papermill": {
     "duration": 0.00536,
     "end_time": "2025-01-31T17:12:28.357323",
     "exception": false,
     "start_time": "2025-01-31T17:12:28.351963",
     "status": "completed"
    },
    "tags": []
   },
   "source": [
    "Is that MAE good?  There isn't a general rule for what values are good that applies across applications. But you'll see how to use (and improve) this number in the next step.\n",
    "\n",
    "# Keep Going\n",
    "\n",
    "You are ready for **[Underfitting and Overfitting](https://www.kaggle.com/dansbecker/underfitting-and-overfitting).**\n"
   ]
  },
  {
   "cell_type": "markdown",
   "id": "7d3ca605",
   "metadata": {
    "papermill": {
     "duration": 0.00836,
     "end_time": "2025-01-31T17:12:28.370949",
     "exception": false,
     "start_time": "2025-01-31T17:12:28.362589",
     "status": "completed"
    },
    "tags": []
   },
   "source": [
    "---\n",
    "\n",
    "\n",
    "\n",
    "\n",
    "*Have questions or comments? Visit the [course discussion forum](https://www.kaggle.com/learn/intro-to-machine-learning/discussion) to chat with other learners.*"
   ]
  }
 ],
 "metadata": {
  "kaggle": {
   "accelerator": "none",
   "dataSources": [
    {
     "databundleVersionId": 111096,
     "sourceId": 10211,
     "sourceType": "competition"
    },
    {
     "datasetId": 11167,
     "sourceId": 15520,
     "sourceType": "datasetVersion"
    },
    {
     "datasetId": 2709,
     "sourceId": 38454,
     "sourceType": "datasetVersion"
    }
   ],
   "isGpuEnabled": false,
   "isInternetEnabled": false,
   "language": "python",
   "sourceType": "notebook"
  },
  "kernelspec": {
   "display_name": "Python 3",
   "language": "python",
   "name": "python3"
  },
  "language_info": {
   "codemirror_mode": {
    "name": "ipython",
    "version": 3
   },
   "file_extension": ".py",
   "mimetype": "text/x-python",
   "name": "python",
   "nbconvert_exporter": "python",
   "pygments_lexer": "ipython3",
   "version": "3.10.12"
  },
  "papermill": {
   "default_parameters": {},
   "duration": 6.388539,
   "end_time": "2025-01-31T17:12:29.098457",
   "environment_variables": {},
   "exception": null,
   "input_path": "__notebook__.ipynb",
   "output_path": "__notebook__.ipynb",
   "parameters": {},
   "start_time": "2025-01-31T17:12:22.709918",
   "version": "2.6.0"
  }
 },
 "nbformat": 4,
 "nbformat_minor": 5
}
